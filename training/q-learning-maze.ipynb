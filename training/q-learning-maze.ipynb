{
 "cells": [
  {
   "cell_type": "code",
   "execution_count": 9,
   "metadata": {},
   "outputs": [],
   "source": [
    "import numpy as np\n",
    "import plotly.graph_objects as go\n",
    "import ipywidgets as widgets\n",
    "from IPython.display import display, clear_output\n",
    "import random"
   ]
  },
  {
   "cell_type": "code",
   "execution_count": 10,
   "metadata": {},
   "outputs": [],
   "source": [
    "class MazeEnv:\n",
    "    def __init__(self, n_rows, n_cols, start, goal, obstacle_prob=0.2, seed=None):\n",
    "        \"\"\"\n",
    "        n_rows, n_cols: Dimensions of the maze.\n",
    "        start, goal: Tuple coordinates (row, col).\n",
    "        obstacle_prob: Probability for a cell to be a wall.\n",
    "        \"\"\"\n",
    "        self.n_rows = n_rows\n",
    "        self.n_cols = n_cols\n",
    "        self.start = start\n",
    "        self.goal = goal\n",
    "        self.obstacle_prob = obstacle_prob\n",
    "        self.seed = seed\n",
    "        if seed is not None:\n",
    "            np.random.seed(seed)\n",
    "        self.generate_maze()\n",
    "        self.current_state = start\n",
    "        \n",
    "        self.actions = {\n",
    "            0: (-1, 0),\n",
    "            1: (0, 1),\n",
    "            2: (1, 0),\n",
    "            3: (0, -1)\n",
    "        }\n",
    "        \n",
    "    def generate_maze(self):\n",
    "        \"\"\"Generates a maze grid with random obstacles. Walls are represented by 1; free cells by 0.\"\"\"\n",
    "        self.maze = np.zeros((self.n_rows, self.n_cols), dtype=int)\n",
    "        for i in range(self.n_rows):\n",
    "            for j in range(self.n_cols):\n",
    "                if (i, j) == self.start or (i, j) == self.goal:\n",
    "                    continue\n",
    "                if np.random.rand() < self.obstacle_prob:\n",
    "                    self.maze[i, j] = 1\n",
    "        \n",
    "        self.maze[0, :] = 1\n",
    "        self.maze[-1, :] = 1\n",
    "        self.maze[:, 0] = 1\n",
    "        self.maze[:, -1] = 1\n",
    "        \n",
    "        self.maze[self.start] = 0\n",
    "        self.maze[self.goal] = 0\n",
    "        \n",
    "    def reset(self):\n",
    "        \"\"\"Resets the environment and returns the start state.\"\"\"\n",
    "        self.current_state = self.start\n",
    "        return self.current_state\n",
    "    \n",
    "    def step(self, action):\n",
    "        \"\"\"\n",
    "        Executes the given action.\n",
    "        Returns: next_state, reward, done (boolean).\n",
    "        \"\"\"\n",
    "        delta = self.actions[action]\n",
    "        next_state = (self.current_state[0] + delta[0],\n",
    "                      self.current_state[1] + delta[1])\n",
    "        \n",
    "        if (0 <= next_state[0] < self.n_rows) and (0 <= next_state[1] < self.n_cols):\n",
    "            if self.maze[next_state] != 1:\n",
    "                self.current_state = next_state\n",
    "            else:\n",
    "                next_state = self.current_state\n",
    "        else:\n",
    "            next_state = self.current_state\n",
    "            \n",
    "        if next_state == self.goal:\n",
    "            reward = 100\n",
    "            done = True\n",
    "        else:\n",
    "            reward = -1\n",
    "            done = False\n",
    "            \n",
    "        return next_state, reward, done\n",
    "    \n",
    "    def render(self, path=None):\n",
    "        \"\"\"\n",
    "        Visualizes the maze using Plotly.\n",
    "        \"\"\"\n",
    "        fig = go.Figure()\n",
    "        for i in range(self.n_rows):\n",
    "            for j in range(self.n_cols):\n",
    "                color = 'white'\n",
    "                if self.maze[i, j] == 1:\n",
    "                    color = 'black'\n",
    "                if (i, j) == self.start:\n",
    "                    color = 'green'\n",
    "                if (i, j) == self.goal:\n",
    "                    color = 'red'\n",
    "                if path is not None and (i, j) in path:\n",
    "                    color = 'blue'\n",
    "                    \n",
    "                fig.add_shape(\n",
    "                    type=\"rect\",\n",
    "                    x0=j, y0=self.n_rows - i - 1,\n",
    "                    x1=j+1, y1=self.n_rows - i,\n",
    "                    line=dict(color=\"gray\"),\n",
    "                    fillcolor=color,\n",
    "                )\n",
    "        fig.update_xaxes(showticklabels=False, range=[0, self.n_cols])\n",
    "        fig.update_yaxes(showticklabels=False, range=[0, self.n_rows])\n",
    "        fig.update_layout(width=500, height=500, title=\"Maze\")\n",
    "        fig.show()"
   ]
  },
  {
   "cell_type": "code",
   "execution_count": 11,
   "metadata": {},
   "outputs": [],
   "source": [
    "class QLearningAgent:\n",
    "    def __init__(self, env, learning_rate=0.1, discount=0.95, \n",
    "                 epsilon=1.0, epsilon_decay=0.995, min_epsilon=0.01):\n",
    "        \"\"\"\n",
    "        env: MazeEnv instance.\n",
    "        learning_rate: α in Q-learning update.\n",
    "        discount: γ in Q-learning update.\n",
    "        epsilon: Initial exploration rate.\n",
    "        epsilon_decay: Multiplicative decay per episode.\n",
    "        min_epsilon: Minimum exploration rate.\n",
    "        \"\"\"\n",
    "        self.env = env\n",
    "        self.lr = learning_rate\n",
    "        self.discount = discount\n",
    "        self.epsilon = epsilon\n",
    "        self.epsilon_decay = epsilon_decay\n",
    "        self.min_epsilon = min_epsilon\n",
    "        self.q_table = np.zeros((env.n_rows, env.n_cols, 4))\n",
    "        \n",
    "    def choose_action(self, state):\n",
    "        \"\"\"Epsilon-greedy action selection.\"\"\"\n",
    "        if np.random.rand() < self.epsilon:\n",
    "            return np.random.randint(4)\n",
    "        else:\n",
    "            row, col = state\n",
    "            return np.argmax(self.q_table[row, col])\n",
    "\n",
    "    def train(self, episodes=500, max_steps=1000, verbose=False):\n",
    "        \"\"\"\n",
    "        Trains the agent for a number of episodes.\n",
    "        Returns a list of total rewards per episode.\n",
    "        \"\"\"\n",
    "        rewards_per_episode = []\n",
    "        for ep in range(episodes):\n",
    "            state = self.env.reset()\n",
    "            total_reward = 0\n",
    "            for step in range(max_steps):\n",
    "                action = self.choose_action(state)\n",
    "                next_state, reward, done = self.env.step(action)\n",
    "                row, col = state\n",
    "                n_row, n_col = next_state\n",
    "                best_next = np.max(self.q_table[n_row, n_col])\n",
    "                self.q_table[row, col, action] += self.lr * (\n",
    "                    reward + self.discount * best_next - self.q_table[row, col, action]\n",
    "                )\n",
    "                state = next_state\n",
    "                total_reward += reward\n",
    "                if done:\n",
    "                    break\n",
    "            rewards_per_episode.append(total_reward)\n",
    "            self.epsilon = max(self.min_epsilon, self.epsilon * self.epsilon_decay)\n",
    "            if verbose and (ep+1) % 100 == 0:\n",
    "                print(f\"Episode {ep+1}: Total Reward = {total_reward}\")\n",
    "        return rewards_per_episode\n",
    "    \n",
    "    def get_optimal_path(self, max_steps=1000):\n",
    "        \"\"\"\n",
    "        Returns the optimal (greedy) path starting from the start state,\n",
    "        following the learned Q-values.\n",
    "        \"\"\"\n",
    "        path = []\n",
    "        state = self.env.reset()\n",
    "        path.append(state)\n",
    "        for _ in range(max_steps):\n",
    "            row, col = state\n",
    "            action = np.argmax(self.q_table[row, col])\n",
    "            next_state, reward, done = self.env.step(action)\n",
    "            if next_state == state:\n",
    "                break\n",
    "            path.append(next_state)\n",
    "            state = next_state\n",
    "            if done:\n",
    "                break\n",
    "        return path"
   ]
  },
  {
   "cell_type": "code",
   "execution_count": 12,
   "metadata": {},
   "outputs": [],
   "source": [
    "maze_rows_widget = widgets.IntSlider(value=10, min=5, max=30, description='Rows')\n",
    "maze_cols_widget = widgets.IntSlider(value=10, min=5, max=30, description='Cols')\n",
    "start_row_widget = widgets.IntText(value=1, description='Start Row')\n",
    "start_col_widget = widgets.IntText(value=1, description='Start Col')\n",
    "goal_row_widget = widgets.IntText(value=8, description='Goal Row')\n",
    "goal_col_widget = widgets.IntText(value=8, description='Goal Col')\n",
    "obstacle_prob_widget = widgets.FloatSlider(value=0.2, min=0.0, max=0.5, step=0.05, description='Obs Prob')\n",
    "\n",
    "episodes_widget = widgets.IntSlider(value=500, min=100, max=2000, step=100, description='Episodes')\n",
    "learning_rate_widget = widgets.FloatSlider(value=0.1, min=0.01, max=1.0, step=0.01, description='Learning Rate')\n",
    "discount_widget = widgets.FloatSlider(value=0.95, min=0.5, max=1.0, step=0.01, description='Discount')\n",
    "epsilon_widget = widgets.FloatSlider(value=1.0, min=0.1, max=1.0, step=0.05, description='Epsilon')\n",
    "epsilon_decay_widget = widgets.FloatSlider(value=0.995, min=0.90, max=1.0, step=0.001, description='Epsilon Decay')\n",
    "max_steps_widget = widgets.IntSlider(value=1000, min=100, max=5000, step=100, description='Max Steps')"
   ]
  },
  {
   "cell_type": "code",
   "execution_count": 13,
   "metadata": {},
   "outputs": [
    {
     "data": {
      "application/vnd.jupyter.widget-view+json": {
       "model_id": "cb3302db837048abb317fe2982f9c96c",
       "version_major": 2,
       "version_minor": 0
      },
      "text/plain": [
       "HBox(children=(VBox(children=(Label(value='Maze Parameters:'), IntSlider(value=10, description='Rows', max=30,…"
      ]
     },
     "metadata": {},
     "output_type": "display_data"
    },
    {
     "name": "stdout",
     "output_type": "stream",
     "text": [
      "### Initial Maze ###\n"
     ]
    },
    {
     "data": {
      "application/vnd.plotly.v1+json": {
       "config": {
        "plotlyServerURL": "https://plot.ly"
       },
       "data": [],
       "layout": {
        "height": 500,
        "shapes": [
         {
          "fillcolor": "black",
          "line": {
           "color": "gray"
          },
          "type": "rect",
          "x0": 0,
          "x1": 1,
          "y0": 9,
          "y1": 10
         },
         {
          "fillcolor": "black",
          "line": {
           "color": "gray"
          },
          "type": "rect",
          "x0": 1,
          "x1": 2,
          "y0": 9,
          "y1": 10
         },
         {
          "fillcolor": "black",
          "line": {
           "color": "gray"
          },
          "type": "rect",
          "x0": 2,
          "x1": 3,
          "y0": 9,
          "y1": 10
         },
         {
          "fillcolor": "black",
          "line": {
           "color": "gray"
          },
          "type": "rect",
          "x0": 3,
          "x1": 4,
          "y0": 9,
          "y1": 10
         },
         {
          "fillcolor": "black",
          "line": {
           "color": "gray"
          },
          "type": "rect",
          "x0": 4,
          "x1": 5,
          "y0": 9,
          "y1": 10
         },
         {
          "fillcolor": "black",
          "line": {
           "color": "gray"
          },
          "type": "rect",
          "x0": 5,
          "x1": 6,
          "y0": 9,
          "y1": 10
         },
         {
          "fillcolor": "black",
          "line": {
           "color": "gray"
          },
          "type": "rect",
          "x0": 6,
          "x1": 7,
          "y0": 9,
          "y1": 10
         },
         {
          "fillcolor": "black",
          "line": {
           "color": "gray"
          },
          "type": "rect",
          "x0": 7,
          "x1": 8,
          "y0": 9,
          "y1": 10
         },
         {
          "fillcolor": "black",
          "line": {
           "color": "gray"
          },
          "type": "rect",
          "x0": 8,
          "x1": 9,
          "y0": 9,
          "y1": 10
         },
         {
          "fillcolor": "black",
          "line": {
           "color": "gray"
          },
          "type": "rect",
          "x0": 9,
          "x1": 10,
          "y0": 9,
          "y1": 10
         },
         {
          "fillcolor": "black",
          "line": {
           "color": "gray"
          },
          "type": "rect",
          "x0": 0,
          "x1": 1,
          "y0": 8,
          "y1": 9
         },
         {
          "fillcolor": "green",
          "line": {
           "color": "gray"
          },
          "type": "rect",
          "x0": 1,
          "x1": 2,
          "y0": 8,
          "y1": 9
         },
         {
          "fillcolor": "black",
          "line": {
           "color": "gray"
          },
          "type": "rect",
          "x0": 2,
          "x1": 3,
          "y0": 8,
          "y1": 9
         },
         {
          "fillcolor": "white",
          "line": {
           "color": "gray"
          },
          "type": "rect",
          "x0": 3,
          "x1": 4,
          "y0": 8,
          "y1": 9
         },
         {
          "fillcolor": "white",
          "line": {
           "color": "gray"
          },
          "type": "rect",
          "x0": 4,
          "x1": 5,
          "y0": 8,
          "y1": 9
         },
         {
          "fillcolor": "black",
          "line": {
           "color": "gray"
          },
          "type": "rect",
          "x0": 5,
          "x1": 6,
          "y0": 8,
          "y1": 9
         },
         {
          "fillcolor": "white",
          "line": {
           "color": "gray"
          },
          "type": "rect",
          "x0": 6,
          "x1": 7,
          "y0": 8,
          "y1": 9
         },
         {
          "fillcolor": "white",
          "line": {
           "color": "gray"
          },
          "type": "rect",
          "x0": 7,
          "x1": 8,
          "y0": 8,
          "y1": 9
         },
         {
          "fillcolor": "white",
          "line": {
           "color": "gray"
          },
          "type": "rect",
          "x0": 8,
          "x1": 9,
          "y0": 8,
          "y1": 9
         },
         {
          "fillcolor": "black",
          "line": {
           "color": "gray"
          },
          "type": "rect",
          "x0": 9,
          "x1": 10,
          "y0": 8,
          "y1": 9
         },
         {
          "fillcolor": "black",
          "line": {
           "color": "gray"
          },
          "type": "rect",
          "x0": 0,
          "x1": 1,
          "y0": 7,
          "y1": 8
         },
         {
          "fillcolor": "black",
          "line": {
           "color": "gray"
          },
          "type": "rect",
          "x0": 1,
          "x1": 2,
          "y0": 7,
          "y1": 8
         },
         {
          "fillcolor": "black",
          "line": {
           "color": "gray"
          },
          "type": "rect",
          "x0": 2,
          "x1": 3,
          "y0": 7,
          "y1": 8
         },
         {
          "fillcolor": "black",
          "line": {
           "color": "gray"
          },
          "type": "rect",
          "x0": 3,
          "x1": 4,
          "y0": 7,
          "y1": 8
         },
         {
          "fillcolor": "white",
          "line": {
           "color": "gray"
          },
          "type": "rect",
          "x0": 4,
          "x1": 5,
          "y0": 7,
          "y1": 8
         },
         {
          "fillcolor": "black",
          "line": {
           "color": "gray"
          },
          "type": "rect",
          "x0": 5,
          "x1": 6,
          "y0": 7,
          "y1": 8
         },
         {
          "fillcolor": "black",
          "line": {
           "color": "gray"
          },
          "type": "rect",
          "x0": 6,
          "x1": 7,
          "y0": 7,
          "y1": 8
         },
         {
          "fillcolor": "black",
          "line": {
           "color": "gray"
          },
          "type": "rect",
          "x0": 7,
          "x1": 8,
          "y0": 7,
          "y1": 8
         },
         {
          "fillcolor": "white",
          "line": {
           "color": "gray"
          },
          "type": "rect",
          "x0": 8,
          "x1": 9,
          "y0": 7,
          "y1": 8
         },
         {
          "fillcolor": "black",
          "line": {
           "color": "gray"
          },
          "type": "rect",
          "x0": 9,
          "x1": 10,
          "y0": 7,
          "y1": 8
         },
         {
          "fillcolor": "black",
          "line": {
           "color": "gray"
          },
          "type": "rect",
          "x0": 0,
          "x1": 1,
          "y0": 6,
          "y1": 7
         },
         {
          "fillcolor": "white",
          "line": {
           "color": "gray"
          },
          "type": "rect",
          "x0": 1,
          "x1": 2,
          "y0": 6,
          "y1": 7
         },
         {
          "fillcolor": "white",
          "line": {
           "color": "gray"
          },
          "type": "rect",
          "x0": 2,
          "x1": 3,
          "y0": 6,
          "y1": 7
         },
         {
          "fillcolor": "white",
          "line": {
           "color": "gray"
          },
          "type": "rect",
          "x0": 3,
          "x1": 4,
          "y0": 6,
          "y1": 7
         },
         {
          "fillcolor": "white",
          "line": {
           "color": "gray"
          },
          "type": "rect",
          "x0": 4,
          "x1": 5,
          "y0": 6,
          "y1": 7
         },
         {
          "fillcolor": "white",
          "line": {
           "color": "gray"
          },
          "type": "rect",
          "x0": 5,
          "x1": 6,
          "y0": 6,
          "y1": 7
         },
         {
          "fillcolor": "white",
          "line": {
           "color": "gray"
          },
          "type": "rect",
          "x0": 6,
          "x1": 7,
          "y0": 6,
          "y1": 7
         },
         {
          "fillcolor": "white",
          "line": {
           "color": "gray"
          },
          "type": "rect",
          "x0": 7,
          "x1": 8,
          "y0": 6,
          "y1": 7
         },
         {
          "fillcolor": "white",
          "line": {
           "color": "gray"
          },
          "type": "rect",
          "x0": 8,
          "x1": 9,
          "y0": 6,
          "y1": 7
         },
         {
          "fillcolor": "black",
          "line": {
           "color": "gray"
          },
          "type": "rect",
          "x0": 9,
          "x1": 10,
          "y0": 6,
          "y1": 7
         },
         {
          "fillcolor": "black",
          "line": {
           "color": "gray"
          },
          "type": "rect",
          "x0": 0,
          "x1": 1,
          "y0": 5,
          "y1": 6
         },
         {
          "fillcolor": "black",
          "line": {
           "color": "gray"
          },
          "type": "rect",
          "x0": 1,
          "x1": 2,
          "y0": 5,
          "y1": 6
         },
         {
          "fillcolor": "white",
          "line": {
           "color": "gray"
          },
          "type": "rect",
          "x0": 2,
          "x1": 3,
          "y0": 5,
          "y1": 6
         },
         {
          "fillcolor": "black",
          "line": {
           "color": "gray"
          },
          "type": "rect",
          "x0": 3,
          "x1": 4,
          "y0": 5,
          "y1": 6
         },
         {
          "fillcolor": "white",
          "line": {
           "color": "gray"
          },
          "type": "rect",
          "x0": 4,
          "x1": 5,
          "y0": 5,
          "y1": 6
         },
         {
          "fillcolor": "white",
          "line": {
           "color": "gray"
          },
          "type": "rect",
          "x0": 5,
          "x1": 6,
          "y0": 5,
          "y1": 6
         },
         {
          "fillcolor": "white",
          "line": {
           "color": "gray"
          },
          "type": "rect",
          "x0": 6,
          "x1": 7,
          "y0": 5,
          "y1": 6
         },
         {
          "fillcolor": "black",
          "line": {
           "color": "gray"
          },
          "type": "rect",
          "x0": 7,
          "x1": 8,
          "y0": 5,
          "y1": 6
         },
         {
          "fillcolor": "white",
          "line": {
           "color": "gray"
          },
          "type": "rect",
          "x0": 8,
          "x1": 9,
          "y0": 5,
          "y1": 6
         },
         {
          "fillcolor": "black",
          "line": {
           "color": "gray"
          },
          "type": "rect",
          "x0": 9,
          "x1": 10,
          "y0": 5,
          "y1": 6
         },
         {
          "fillcolor": "black",
          "line": {
           "color": "gray"
          },
          "type": "rect",
          "x0": 0,
          "x1": 1,
          "y0": 4,
          "y1": 5
         },
         {
          "fillcolor": "white",
          "line": {
           "color": "gray"
          },
          "type": "rect",
          "x0": 1,
          "x1": 2,
          "y0": 4,
          "y1": 5
         },
         {
          "fillcolor": "white",
          "line": {
           "color": "gray"
          },
          "type": "rect",
          "x0": 2,
          "x1": 3,
          "y0": 4,
          "y1": 5
         },
         {
          "fillcolor": "black",
          "line": {
           "color": "gray"
          },
          "type": "rect",
          "x0": 3,
          "x1": 4,
          "y0": 4,
          "y1": 5
         },
         {
          "fillcolor": "black",
          "line": {
           "color": "gray"
          },
          "type": "rect",
          "x0": 4,
          "x1": 5,
          "y0": 4,
          "y1": 5
         },
         {
          "fillcolor": "white",
          "line": {
           "color": "gray"
          },
          "type": "rect",
          "x0": 5,
          "x1": 6,
          "y0": 4,
          "y1": 5
         },
         {
          "fillcolor": "black",
          "line": {
           "color": "gray"
          },
          "type": "rect",
          "x0": 6,
          "x1": 7,
          "y0": 4,
          "y1": 5
         },
         {
          "fillcolor": "white",
          "line": {
           "color": "gray"
          },
          "type": "rect",
          "x0": 7,
          "x1": 8,
          "y0": 4,
          "y1": 5
         },
         {
          "fillcolor": "white",
          "line": {
           "color": "gray"
          },
          "type": "rect",
          "x0": 8,
          "x1": 9,
          "y0": 4,
          "y1": 5
         },
         {
          "fillcolor": "black",
          "line": {
           "color": "gray"
          },
          "type": "rect",
          "x0": 9,
          "x1": 10,
          "y0": 4,
          "y1": 5
         },
         {
          "fillcolor": "black",
          "line": {
           "color": "gray"
          },
          "type": "rect",
          "x0": 0,
          "x1": 1,
          "y0": 3,
          "y1": 4
         },
         {
          "fillcolor": "white",
          "line": {
           "color": "gray"
          },
          "type": "rect",
          "x0": 1,
          "x1": 2,
          "y0": 3,
          "y1": 4
         },
         {
          "fillcolor": "white",
          "line": {
           "color": "gray"
          },
          "type": "rect",
          "x0": 2,
          "x1": 3,
          "y0": 3,
          "y1": 4
         },
         {
          "fillcolor": "white",
          "line": {
           "color": "gray"
          },
          "type": "rect",
          "x0": 3,
          "x1": 4,
          "y0": 3,
          "y1": 4
         },
         {
          "fillcolor": "black",
          "line": {
           "color": "gray"
          },
          "type": "rect",
          "x0": 4,
          "x1": 5,
          "y0": 3,
          "y1": 4
         },
         {
          "fillcolor": "white",
          "line": {
           "color": "gray"
          },
          "type": "rect",
          "x0": 5,
          "x1": 6,
          "y0": 3,
          "y1": 4
         },
         {
          "fillcolor": "black",
          "line": {
           "color": "gray"
          },
          "type": "rect",
          "x0": 6,
          "x1": 7,
          "y0": 3,
          "y1": 4
         },
         {
          "fillcolor": "white",
          "line": {
           "color": "gray"
          },
          "type": "rect",
          "x0": 7,
          "x1": 8,
          "y0": 3,
          "y1": 4
         },
         {
          "fillcolor": "white",
          "line": {
           "color": "gray"
          },
          "type": "rect",
          "x0": 8,
          "x1": 9,
          "y0": 3,
          "y1": 4
         },
         {
          "fillcolor": "black",
          "line": {
           "color": "gray"
          },
          "type": "rect",
          "x0": 9,
          "x1": 10,
          "y0": 3,
          "y1": 4
         },
         {
          "fillcolor": "black",
          "line": {
           "color": "gray"
          },
          "type": "rect",
          "x0": 0,
          "x1": 1,
          "y0": 2,
          "y1": 3
         },
         {
          "fillcolor": "black",
          "line": {
           "color": "gray"
          },
          "type": "rect",
          "x0": 1,
          "x1": 2,
          "y0": 2,
          "y1": 3
         },
         {
          "fillcolor": "black",
          "line": {
           "color": "gray"
          },
          "type": "rect",
          "x0": 2,
          "x1": 3,
          "y0": 2,
          "y1": 3
         },
         {
          "fillcolor": "white",
          "line": {
           "color": "gray"
          },
          "type": "rect",
          "x0": 3,
          "x1": 4,
          "y0": 2,
          "y1": 3
         },
         {
          "fillcolor": "white",
          "line": {
           "color": "gray"
          },
          "type": "rect",
          "x0": 4,
          "x1": 5,
          "y0": 2,
          "y1": 3
         },
         {
          "fillcolor": "white",
          "line": {
           "color": "gray"
          },
          "type": "rect",
          "x0": 5,
          "x1": 6,
          "y0": 2,
          "y1": 3
         },
         {
          "fillcolor": "white",
          "line": {
           "color": "gray"
          },
          "type": "rect",
          "x0": 6,
          "x1": 7,
          "y0": 2,
          "y1": 3
         },
         {
          "fillcolor": "white",
          "line": {
           "color": "gray"
          },
          "type": "rect",
          "x0": 7,
          "x1": 8,
          "y0": 2,
          "y1": 3
         },
         {
          "fillcolor": "white",
          "line": {
           "color": "gray"
          },
          "type": "rect",
          "x0": 8,
          "x1": 9,
          "y0": 2,
          "y1": 3
         },
         {
          "fillcolor": "black",
          "line": {
           "color": "gray"
          },
          "type": "rect",
          "x0": 9,
          "x1": 10,
          "y0": 2,
          "y1": 3
         },
         {
          "fillcolor": "black",
          "line": {
           "color": "gray"
          },
          "type": "rect",
          "x0": 0,
          "x1": 1,
          "y0": 1,
          "y1": 2
         },
         {
          "fillcolor": "white",
          "line": {
           "color": "gray"
          },
          "type": "rect",
          "x0": 1,
          "x1": 2,
          "y0": 1,
          "y1": 2
         },
         {
          "fillcolor": "black",
          "line": {
           "color": "gray"
          },
          "type": "rect",
          "x0": 2,
          "x1": 3,
          "y0": 1,
          "y1": 2
         },
         {
          "fillcolor": "white",
          "line": {
           "color": "gray"
          },
          "type": "rect",
          "x0": 3,
          "x1": 4,
          "y0": 1,
          "y1": 2
         },
         {
          "fillcolor": "black",
          "line": {
           "color": "gray"
          },
          "type": "rect",
          "x0": 4,
          "x1": 5,
          "y0": 1,
          "y1": 2
         },
         {
          "fillcolor": "black",
          "line": {
           "color": "gray"
          },
          "type": "rect",
          "x0": 5,
          "x1": 6,
          "y0": 1,
          "y1": 2
         },
         {
          "fillcolor": "white",
          "line": {
           "color": "gray"
          },
          "type": "rect",
          "x0": 6,
          "x1": 7,
          "y0": 1,
          "y1": 2
         },
         {
          "fillcolor": "white",
          "line": {
           "color": "gray"
          },
          "type": "rect",
          "x0": 7,
          "x1": 8,
          "y0": 1,
          "y1": 2
         },
         {
          "fillcolor": "red",
          "line": {
           "color": "gray"
          },
          "type": "rect",
          "x0": 8,
          "x1": 9,
          "y0": 1,
          "y1": 2
         },
         {
          "fillcolor": "black",
          "line": {
           "color": "gray"
          },
          "type": "rect",
          "x0": 9,
          "x1": 10,
          "y0": 1,
          "y1": 2
         },
         {
          "fillcolor": "black",
          "line": {
           "color": "gray"
          },
          "type": "rect",
          "x0": 0,
          "x1": 1,
          "y0": 0,
          "y1": 1
         },
         {
          "fillcolor": "black",
          "line": {
           "color": "gray"
          },
          "type": "rect",
          "x0": 1,
          "x1": 2,
          "y0": 0,
          "y1": 1
         },
         {
          "fillcolor": "black",
          "line": {
           "color": "gray"
          },
          "type": "rect",
          "x0": 2,
          "x1": 3,
          "y0": 0,
          "y1": 1
         },
         {
          "fillcolor": "black",
          "line": {
           "color": "gray"
          },
          "type": "rect",
          "x0": 3,
          "x1": 4,
          "y0": 0,
          "y1": 1
         },
         {
          "fillcolor": "black",
          "line": {
           "color": "gray"
          },
          "type": "rect",
          "x0": 4,
          "x1": 5,
          "y0": 0,
          "y1": 1
         },
         {
          "fillcolor": "black",
          "line": {
           "color": "gray"
          },
          "type": "rect",
          "x0": 5,
          "x1": 6,
          "y0": 0,
          "y1": 1
         },
         {
          "fillcolor": "black",
          "line": {
           "color": "gray"
          },
          "type": "rect",
          "x0": 6,
          "x1": 7,
          "y0": 0,
          "y1": 1
         },
         {
          "fillcolor": "black",
          "line": {
           "color": "gray"
          },
          "type": "rect",
          "x0": 7,
          "x1": 8,
          "y0": 0,
          "y1": 1
         },
         {
          "fillcolor": "black",
          "line": {
           "color": "gray"
          },
          "type": "rect",
          "x0": 8,
          "x1": 9,
          "y0": 0,
          "y1": 1
         },
         {
          "fillcolor": "black",
          "line": {
           "color": "gray"
          },
          "type": "rect",
          "x0": 9,
          "x1": 10,
          "y0": 0,
          "y1": 1
         }
        ],
        "template": {
         "data": {
          "bar": [
           {
            "error_x": {
             "color": "#2a3f5f"
            },
            "error_y": {
             "color": "#2a3f5f"
            },
            "marker": {
             "line": {
              "color": "#E5ECF6",
              "width": 0.5
             },
             "pattern": {
              "fillmode": "overlay",
              "size": 10,
              "solidity": 0.2
             }
            },
            "type": "bar"
           }
          ],
          "barpolar": [
           {
            "marker": {
             "line": {
              "color": "#E5ECF6",
              "width": 0.5
             },
             "pattern": {
              "fillmode": "overlay",
              "size": 10,
              "solidity": 0.2
             }
            },
            "type": "barpolar"
           }
          ],
          "carpet": [
           {
            "aaxis": {
             "endlinecolor": "#2a3f5f",
             "gridcolor": "white",
             "linecolor": "white",
             "minorgridcolor": "white",
             "startlinecolor": "#2a3f5f"
            },
            "baxis": {
             "endlinecolor": "#2a3f5f",
             "gridcolor": "white",
             "linecolor": "white",
             "minorgridcolor": "white",
             "startlinecolor": "#2a3f5f"
            },
            "type": "carpet"
           }
          ],
          "choropleth": [
           {
            "colorbar": {
             "outlinewidth": 0,
             "ticks": ""
            },
            "type": "choropleth"
           }
          ],
          "contour": [
           {
            "colorbar": {
             "outlinewidth": 0,
             "ticks": ""
            },
            "colorscale": [
             [
              0,
              "#0d0887"
             ],
             [
              0.1111111111111111,
              "#46039f"
             ],
             [
              0.2222222222222222,
              "#7201a8"
             ],
             [
              0.3333333333333333,
              "#9c179e"
             ],
             [
              0.4444444444444444,
              "#bd3786"
             ],
             [
              0.5555555555555556,
              "#d8576b"
             ],
             [
              0.6666666666666666,
              "#ed7953"
             ],
             [
              0.7777777777777778,
              "#fb9f3a"
             ],
             [
              0.8888888888888888,
              "#fdca26"
             ],
             [
              1,
              "#f0f921"
             ]
            ],
            "type": "contour"
           }
          ],
          "contourcarpet": [
           {
            "colorbar": {
             "outlinewidth": 0,
             "ticks": ""
            },
            "type": "contourcarpet"
           }
          ],
          "heatmap": [
           {
            "colorbar": {
             "outlinewidth": 0,
             "ticks": ""
            },
            "colorscale": [
             [
              0,
              "#0d0887"
             ],
             [
              0.1111111111111111,
              "#46039f"
             ],
             [
              0.2222222222222222,
              "#7201a8"
             ],
             [
              0.3333333333333333,
              "#9c179e"
             ],
             [
              0.4444444444444444,
              "#bd3786"
             ],
             [
              0.5555555555555556,
              "#d8576b"
             ],
             [
              0.6666666666666666,
              "#ed7953"
             ],
             [
              0.7777777777777778,
              "#fb9f3a"
             ],
             [
              0.8888888888888888,
              "#fdca26"
             ],
             [
              1,
              "#f0f921"
             ]
            ],
            "type": "heatmap"
           }
          ],
          "heatmapgl": [
           {
            "colorbar": {
             "outlinewidth": 0,
             "ticks": ""
            },
            "colorscale": [
             [
              0,
              "#0d0887"
             ],
             [
              0.1111111111111111,
              "#46039f"
             ],
             [
              0.2222222222222222,
              "#7201a8"
             ],
             [
              0.3333333333333333,
              "#9c179e"
             ],
             [
              0.4444444444444444,
              "#bd3786"
             ],
             [
              0.5555555555555556,
              "#d8576b"
             ],
             [
              0.6666666666666666,
              "#ed7953"
             ],
             [
              0.7777777777777778,
              "#fb9f3a"
             ],
             [
              0.8888888888888888,
              "#fdca26"
             ],
             [
              1,
              "#f0f921"
             ]
            ],
            "type": "heatmapgl"
           }
          ],
          "histogram": [
           {
            "marker": {
             "pattern": {
              "fillmode": "overlay",
              "size": 10,
              "solidity": 0.2
             }
            },
            "type": "histogram"
           }
          ],
          "histogram2d": [
           {
            "colorbar": {
             "outlinewidth": 0,
             "ticks": ""
            },
            "colorscale": [
             [
              0,
              "#0d0887"
             ],
             [
              0.1111111111111111,
              "#46039f"
             ],
             [
              0.2222222222222222,
              "#7201a8"
             ],
             [
              0.3333333333333333,
              "#9c179e"
             ],
             [
              0.4444444444444444,
              "#bd3786"
             ],
             [
              0.5555555555555556,
              "#d8576b"
             ],
             [
              0.6666666666666666,
              "#ed7953"
             ],
             [
              0.7777777777777778,
              "#fb9f3a"
             ],
             [
              0.8888888888888888,
              "#fdca26"
             ],
             [
              1,
              "#f0f921"
             ]
            ],
            "type": "histogram2d"
           }
          ],
          "histogram2dcontour": [
           {
            "colorbar": {
             "outlinewidth": 0,
             "ticks": ""
            },
            "colorscale": [
             [
              0,
              "#0d0887"
             ],
             [
              0.1111111111111111,
              "#46039f"
             ],
             [
              0.2222222222222222,
              "#7201a8"
             ],
             [
              0.3333333333333333,
              "#9c179e"
             ],
             [
              0.4444444444444444,
              "#bd3786"
             ],
             [
              0.5555555555555556,
              "#d8576b"
             ],
             [
              0.6666666666666666,
              "#ed7953"
             ],
             [
              0.7777777777777778,
              "#fb9f3a"
             ],
             [
              0.8888888888888888,
              "#fdca26"
             ],
             [
              1,
              "#f0f921"
             ]
            ],
            "type": "histogram2dcontour"
           }
          ],
          "mesh3d": [
           {
            "colorbar": {
             "outlinewidth": 0,
             "ticks": ""
            },
            "type": "mesh3d"
           }
          ],
          "parcoords": [
           {
            "line": {
             "colorbar": {
              "outlinewidth": 0,
              "ticks": ""
             }
            },
            "type": "parcoords"
           }
          ],
          "pie": [
           {
            "automargin": true,
            "type": "pie"
           }
          ],
          "scatter": [
           {
            "fillpattern": {
             "fillmode": "overlay",
             "size": 10,
             "solidity": 0.2
            },
            "type": "scatter"
           }
          ],
          "scatter3d": [
           {
            "line": {
             "colorbar": {
              "outlinewidth": 0,
              "ticks": ""
             }
            },
            "marker": {
             "colorbar": {
              "outlinewidth": 0,
              "ticks": ""
             }
            },
            "type": "scatter3d"
           }
          ],
          "scattercarpet": [
           {
            "marker": {
             "colorbar": {
              "outlinewidth": 0,
              "ticks": ""
             }
            },
            "type": "scattercarpet"
           }
          ],
          "scattergeo": [
           {
            "marker": {
             "colorbar": {
              "outlinewidth": 0,
              "ticks": ""
             }
            },
            "type": "scattergeo"
           }
          ],
          "scattergl": [
           {
            "marker": {
             "colorbar": {
              "outlinewidth": 0,
              "ticks": ""
             }
            },
            "type": "scattergl"
           }
          ],
          "scattermapbox": [
           {
            "marker": {
             "colorbar": {
              "outlinewidth": 0,
              "ticks": ""
             }
            },
            "type": "scattermapbox"
           }
          ],
          "scatterpolar": [
           {
            "marker": {
             "colorbar": {
              "outlinewidth": 0,
              "ticks": ""
             }
            },
            "type": "scatterpolar"
           }
          ],
          "scatterpolargl": [
           {
            "marker": {
             "colorbar": {
              "outlinewidth": 0,
              "ticks": ""
             }
            },
            "type": "scatterpolargl"
           }
          ],
          "scatterternary": [
           {
            "marker": {
             "colorbar": {
              "outlinewidth": 0,
              "ticks": ""
             }
            },
            "type": "scatterternary"
           }
          ],
          "surface": [
           {
            "colorbar": {
             "outlinewidth": 0,
             "ticks": ""
            },
            "colorscale": [
             [
              0,
              "#0d0887"
             ],
             [
              0.1111111111111111,
              "#46039f"
             ],
             [
              0.2222222222222222,
              "#7201a8"
             ],
             [
              0.3333333333333333,
              "#9c179e"
             ],
             [
              0.4444444444444444,
              "#bd3786"
             ],
             [
              0.5555555555555556,
              "#d8576b"
             ],
             [
              0.6666666666666666,
              "#ed7953"
             ],
             [
              0.7777777777777778,
              "#fb9f3a"
             ],
             [
              0.8888888888888888,
              "#fdca26"
             ],
             [
              1,
              "#f0f921"
             ]
            ],
            "type": "surface"
           }
          ],
          "table": [
           {
            "cells": {
             "fill": {
              "color": "#EBF0F8"
             },
             "line": {
              "color": "white"
             }
            },
            "header": {
             "fill": {
              "color": "#C8D4E3"
             },
             "line": {
              "color": "white"
             }
            },
            "type": "table"
           }
          ]
         },
         "layout": {
          "annotationdefaults": {
           "arrowcolor": "#2a3f5f",
           "arrowhead": 0,
           "arrowwidth": 1
          },
          "autotypenumbers": "strict",
          "coloraxis": {
           "colorbar": {
            "outlinewidth": 0,
            "ticks": ""
           }
          },
          "colorscale": {
           "diverging": [
            [
             0,
             "#8e0152"
            ],
            [
             0.1,
             "#c51b7d"
            ],
            [
             0.2,
             "#de77ae"
            ],
            [
             0.3,
             "#f1b6da"
            ],
            [
             0.4,
             "#fde0ef"
            ],
            [
             0.5,
             "#f7f7f7"
            ],
            [
             0.6,
             "#e6f5d0"
            ],
            [
             0.7,
             "#b8e186"
            ],
            [
             0.8,
             "#7fbc41"
            ],
            [
             0.9,
             "#4d9221"
            ],
            [
             1,
             "#276419"
            ]
           ],
           "sequential": [
            [
             0,
             "#0d0887"
            ],
            [
             0.1111111111111111,
             "#46039f"
            ],
            [
             0.2222222222222222,
             "#7201a8"
            ],
            [
             0.3333333333333333,
             "#9c179e"
            ],
            [
             0.4444444444444444,
             "#bd3786"
            ],
            [
             0.5555555555555556,
             "#d8576b"
            ],
            [
             0.6666666666666666,
             "#ed7953"
            ],
            [
             0.7777777777777778,
             "#fb9f3a"
            ],
            [
             0.8888888888888888,
             "#fdca26"
            ],
            [
             1,
             "#f0f921"
            ]
           ],
           "sequentialminus": [
            [
             0,
             "#0d0887"
            ],
            [
             0.1111111111111111,
             "#46039f"
            ],
            [
             0.2222222222222222,
             "#7201a8"
            ],
            [
             0.3333333333333333,
             "#9c179e"
            ],
            [
             0.4444444444444444,
             "#bd3786"
            ],
            [
             0.5555555555555556,
             "#d8576b"
            ],
            [
             0.6666666666666666,
             "#ed7953"
            ],
            [
             0.7777777777777778,
             "#fb9f3a"
            ],
            [
             0.8888888888888888,
             "#fdca26"
            ],
            [
             1,
             "#f0f921"
            ]
           ]
          },
          "colorway": [
           "#636efa",
           "#EF553B",
           "#00cc96",
           "#ab63fa",
           "#FFA15A",
           "#19d3f3",
           "#FF6692",
           "#B6E880",
           "#FF97FF",
           "#FECB52"
          ],
          "font": {
           "color": "#2a3f5f"
          },
          "geo": {
           "bgcolor": "white",
           "lakecolor": "white",
           "landcolor": "#E5ECF6",
           "showlakes": true,
           "showland": true,
           "subunitcolor": "white"
          },
          "hoverlabel": {
           "align": "left"
          },
          "hovermode": "closest",
          "mapbox": {
           "style": "light"
          },
          "paper_bgcolor": "white",
          "plot_bgcolor": "#E5ECF6",
          "polar": {
           "angularaxis": {
            "gridcolor": "white",
            "linecolor": "white",
            "ticks": ""
           },
           "bgcolor": "#E5ECF6",
           "radialaxis": {
            "gridcolor": "white",
            "linecolor": "white",
            "ticks": ""
           }
          },
          "scene": {
           "xaxis": {
            "backgroundcolor": "#E5ECF6",
            "gridcolor": "white",
            "gridwidth": 2,
            "linecolor": "white",
            "showbackground": true,
            "ticks": "",
            "zerolinecolor": "white"
           },
           "yaxis": {
            "backgroundcolor": "#E5ECF6",
            "gridcolor": "white",
            "gridwidth": 2,
            "linecolor": "white",
            "showbackground": true,
            "ticks": "",
            "zerolinecolor": "white"
           },
           "zaxis": {
            "backgroundcolor": "#E5ECF6",
            "gridcolor": "white",
            "gridwidth": 2,
            "linecolor": "white",
            "showbackground": true,
            "ticks": "",
            "zerolinecolor": "white"
           }
          },
          "shapedefaults": {
           "line": {
            "color": "#2a3f5f"
           }
          },
          "ternary": {
           "aaxis": {
            "gridcolor": "white",
            "linecolor": "white",
            "ticks": ""
           },
           "baxis": {
            "gridcolor": "white",
            "linecolor": "white",
            "ticks": ""
           },
           "bgcolor": "#E5ECF6",
           "caxis": {
            "gridcolor": "white",
            "linecolor": "white",
            "ticks": ""
           }
          },
          "title": {
           "x": 0.05
          },
          "xaxis": {
           "automargin": true,
           "gridcolor": "white",
           "linecolor": "white",
           "ticks": "",
           "title": {
            "standoff": 15
           },
           "zerolinecolor": "white",
           "zerolinewidth": 2
          },
          "yaxis": {
           "automargin": true,
           "gridcolor": "white",
           "linecolor": "white",
           "ticks": "",
           "title": {
            "standoff": 15
           },
           "zerolinecolor": "white",
           "zerolinewidth": 2
          }
         }
        },
        "title": {
         "text": "Maze"
        },
        "width": 500,
        "xaxis": {
         "range": [
          0,
          10
         ],
         "showticklabels": false
        },
        "yaxis": {
         "range": [
          0,
          10
         ],
         "showticklabels": false
        }
       }
      }
     },
     "metadata": {},
     "output_type": "display_data"
    },
    {
     "name": "stdout",
     "output_type": "stream",
     "text": [
      "### Training Agent... ###\n",
      "Episode 100: Total Reward = -1000\n",
      "Episode 200: Total Reward = -1000\n",
      "Episode 300: Total Reward = -1000\n",
      "Episode 400: Total Reward = -1000\n",
      "Episode 500: Total Reward = -1000\n",
      "### Learned Path ###\n",
      "[(1, 1)]\n"
     ]
    },
    {
     "data": {
      "application/vnd.plotly.v1+json": {
       "config": {
        "plotlyServerURL": "https://plot.ly"
       },
       "data": [],
       "layout": {
        "height": 500,
        "shapes": [
         {
          "fillcolor": "black",
          "line": {
           "color": "gray"
          },
          "type": "rect",
          "x0": 0,
          "x1": 1,
          "y0": 9,
          "y1": 10
         },
         {
          "fillcolor": "black",
          "line": {
           "color": "gray"
          },
          "type": "rect",
          "x0": 1,
          "x1": 2,
          "y0": 9,
          "y1": 10
         },
         {
          "fillcolor": "black",
          "line": {
           "color": "gray"
          },
          "type": "rect",
          "x0": 2,
          "x1": 3,
          "y0": 9,
          "y1": 10
         },
         {
          "fillcolor": "black",
          "line": {
           "color": "gray"
          },
          "type": "rect",
          "x0": 3,
          "x1": 4,
          "y0": 9,
          "y1": 10
         },
         {
          "fillcolor": "black",
          "line": {
           "color": "gray"
          },
          "type": "rect",
          "x0": 4,
          "x1": 5,
          "y0": 9,
          "y1": 10
         },
         {
          "fillcolor": "black",
          "line": {
           "color": "gray"
          },
          "type": "rect",
          "x0": 5,
          "x1": 6,
          "y0": 9,
          "y1": 10
         },
         {
          "fillcolor": "black",
          "line": {
           "color": "gray"
          },
          "type": "rect",
          "x0": 6,
          "x1": 7,
          "y0": 9,
          "y1": 10
         },
         {
          "fillcolor": "black",
          "line": {
           "color": "gray"
          },
          "type": "rect",
          "x0": 7,
          "x1": 8,
          "y0": 9,
          "y1": 10
         },
         {
          "fillcolor": "black",
          "line": {
           "color": "gray"
          },
          "type": "rect",
          "x0": 8,
          "x1": 9,
          "y0": 9,
          "y1": 10
         },
         {
          "fillcolor": "black",
          "line": {
           "color": "gray"
          },
          "type": "rect",
          "x0": 9,
          "x1": 10,
          "y0": 9,
          "y1": 10
         },
         {
          "fillcolor": "black",
          "line": {
           "color": "gray"
          },
          "type": "rect",
          "x0": 0,
          "x1": 1,
          "y0": 8,
          "y1": 9
         },
         {
          "fillcolor": "blue",
          "line": {
           "color": "gray"
          },
          "type": "rect",
          "x0": 1,
          "x1": 2,
          "y0": 8,
          "y1": 9
         },
         {
          "fillcolor": "black",
          "line": {
           "color": "gray"
          },
          "type": "rect",
          "x0": 2,
          "x1": 3,
          "y0": 8,
          "y1": 9
         },
         {
          "fillcolor": "white",
          "line": {
           "color": "gray"
          },
          "type": "rect",
          "x0": 3,
          "x1": 4,
          "y0": 8,
          "y1": 9
         },
         {
          "fillcolor": "white",
          "line": {
           "color": "gray"
          },
          "type": "rect",
          "x0": 4,
          "x1": 5,
          "y0": 8,
          "y1": 9
         },
         {
          "fillcolor": "black",
          "line": {
           "color": "gray"
          },
          "type": "rect",
          "x0": 5,
          "x1": 6,
          "y0": 8,
          "y1": 9
         },
         {
          "fillcolor": "white",
          "line": {
           "color": "gray"
          },
          "type": "rect",
          "x0": 6,
          "x1": 7,
          "y0": 8,
          "y1": 9
         },
         {
          "fillcolor": "white",
          "line": {
           "color": "gray"
          },
          "type": "rect",
          "x0": 7,
          "x1": 8,
          "y0": 8,
          "y1": 9
         },
         {
          "fillcolor": "white",
          "line": {
           "color": "gray"
          },
          "type": "rect",
          "x0": 8,
          "x1": 9,
          "y0": 8,
          "y1": 9
         },
         {
          "fillcolor": "black",
          "line": {
           "color": "gray"
          },
          "type": "rect",
          "x0": 9,
          "x1": 10,
          "y0": 8,
          "y1": 9
         },
         {
          "fillcolor": "black",
          "line": {
           "color": "gray"
          },
          "type": "rect",
          "x0": 0,
          "x1": 1,
          "y0": 7,
          "y1": 8
         },
         {
          "fillcolor": "black",
          "line": {
           "color": "gray"
          },
          "type": "rect",
          "x0": 1,
          "x1": 2,
          "y0": 7,
          "y1": 8
         },
         {
          "fillcolor": "black",
          "line": {
           "color": "gray"
          },
          "type": "rect",
          "x0": 2,
          "x1": 3,
          "y0": 7,
          "y1": 8
         },
         {
          "fillcolor": "black",
          "line": {
           "color": "gray"
          },
          "type": "rect",
          "x0": 3,
          "x1": 4,
          "y0": 7,
          "y1": 8
         },
         {
          "fillcolor": "white",
          "line": {
           "color": "gray"
          },
          "type": "rect",
          "x0": 4,
          "x1": 5,
          "y0": 7,
          "y1": 8
         },
         {
          "fillcolor": "black",
          "line": {
           "color": "gray"
          },
          "type": "rect",
          "x0": 5,
          "x1": 6,
          "y0": 7,
          "y1": 8
         },
         {
          "fillcolor": "black",
          "line": {
           "color": "gray"
          },
          "type": "rect",
          "x0": 6,
          "x1": 7,
          "y0": 7,
          "y1": 8
         },
         {
          "fillcolor": "black",
          "line": {
           "color": "gray"
          },
          "type": "rect",
          "x0": 7,
          "x1": 8,
          "y0": 7,
          "y1": 8
         },
         {
          "fillcolor": "white",
          "line": {
           "color": "gray"
          },
          "type": "rect",
          "x0": 8,
          "x1": 9,
          "y0": 7,
          "y1": 8
         },
         {
          "fillcolor": "black",
          "line": {
           "color": "gray"
          },
          "type": "rect",
          "x0": 9,
          "x1": 10,
          "y0": 7,
          "y1": 8
         },
         {
          "fillcolor": "black",
          "line": {
           "color": "gray"
          },
          "type": "rect",
          "x0": 0,
          "x1": 1,
          "y0": 6,
          "y1": 7
         },
         {
          "fillcolor": "white",
          "line": {
           "color": "gray"
          },
          "type": "rect",
          "x0": 1,
          "x1": 2,
          "y0": 6,
          "y1": 7
         },
         {
          "fillcolor": "white",
          "line": {
           "color": "gray"
          },
          "type": "rect",
          "x0": 2,
          "x1": 3,
          "y0": 6,
          "y1": 7
         },
         {
          "fillcolor": "white",
          "line": {
           "color": "gray"
          },
          "type": "rect",
          "x0": 3,
          "x1": 4,
          "y0": 6,
          "y1": 7
         },
         {
          "fillcolor": "white",
          "line": {
           "color": "gray"
          },
          "type": "rect",
          "x0": 4,
          "x1": 5,
          "y0": 6,
          "y1": 7
         },
         {
          "fillcolor": "white",
          "line": {
           "color": "gray"
          },
          "type": "rect",
          "x0": 5,
          "x1": 6,
          "y0": 6,
          "y1": 7
         },
         {
          "fillcolor": "white",
          "line": {
           "color": "gray"
          },
          "type": "rect",
          "x0": 6,
          "x1": 7,
          "y0": 6,
          "y1": 7
         },
         {
          "fillcolor": "white",
          "line": {
           "color": "gray"
          },
          "type": "rect",
          "x0": 7,
          "x1": 8,
          "y0": 6,
          "y1": 7
         },
         {
          "fillcolor": "white",
          "line": {
           "color": "gray"
          },
          "type": "rect",
          "x0": 8,
          "x1": 9,
          "y0": 6,
          "y1": 7
         },
         {
          "fillcolor": "black",
          "line": {
           "color": "gray"
          },
          "type": "rect",
          "x0": 9,
          "x1": 10,
          "y0": 6,
          "y1": 7
         },
         {
          "fillcolor": "black",
          "line": {
           "color": "gray"
          },
          "type": "rect",
          "x0": 0,
          "x1": 1,
          "y0": 5,
          "y1": 6
         },
         {
          "fillcolor": "black",
          "line": {
           "color": "gray"
          },
          "type": "rect",
          "x0": 1,
          "x1": 2,
          "y0": 5,
          "y1": 6
         },
         {
          "fillcolor": "white",
          "line": {
           "color": "gray"
          },
          "type": "rect",
          "x0": 2,
          "x1": 3,
          "y0": 5,
          "y1": 6
         },
         {
          "fillcolor": "black",
          "line": {
           "color": "gray"
          },
          "type": "rect",
          "x0": 3,
          "x1": 4,
          "y0": 5,
          "y1": 6
         },
         {
          "fillcolor": "white",
          "line": {
           "color": "gray"
          },
          "type": "rect",
          "x0": 4,
          "x1": 5,
          "y0": 5,
          "y1": 6
         },
         {
          "fillcolor": "white",
          "line": {
           "color": "gray"
          },
          "type": "rect",
          "x0": 5,
          "x1": 6,
          "y0": 5,
          "y1": 6
         },
         {
          "fillcolor": "white",
          "line": {
           "color": "gray"
          },
          "type": "rect",
          "x0": 6,
          "x1": 7,
          "y0": 5,
          "y1": 6
         },
         {
          "fillcolor": "black",
          "line": {
           "color": "gray"
          },
          "type": "rect",
          "x0": 7,
          "x1": 8,
          "y0": 5,
          "y1": 6
         },
         {
          "fillcolor": "white",
          "line": {
           "color": "gray"
          },
          "type": "rect",
          "x0": 8,
          "x1": 9,
          "y0": 5,
          "y1": 6
         },
         {
          "fillcolor": "black",
          "line": {
           "color": "gray"
          },
          "type": "rect",
          "x0": 9,
          "x1": 10,
          "y0": 5,
          "y1": 6
         },
         {
          "fillcolor": "black",
          "line": {
           "color": "gray"
          },
          "type": "rect",
          "x0": 0,
          "x1": 1,
          "y0": 4,
          "y1": 5
         },
         {
          "fillcolor": "white",
          "line": {
           "color": "gray"
          },
          "type": "rect",
          "x0": 1,
          "x1": 2,
          "y0": 4,
          "y1": 5
         },
         {
          "fillcolor": "white",
          "line": {
           "color": "gray"
          },
          "type": "rect",
          "x0": 2,
          "x1": 3,
          "y0": 4,
          "y1": 5
         },
         {
          "fillcolor": "black",
          "line": {
           "color": "gray"
          },
          "type": "rect",
          "x0": 3,
          "x1": 4,
          "y0": 4,
          "y1": 5
         },
         {
          "fillcolor": "black",
          "line": {
           "color": "gray"
          },
          "type": "rect",
          "x0": 4,
          "x1": 5,
          "y0": 4,
          "y1": 5
         },
         {
          "fillcolor": "white",
          "line": {
           "color": "gray"
          },
          "type": "rect",
          "x0": 5,
          "x1": 6,
          "y0": 4,
          "y1": 5
         },
         {
          "fillcolor": "black",
          "line": {
           "color": "gray"
          },
          "type": "rect",
          "x0": 6,
          "x1": 7,
          "y0": 4,
          "y1": 5
         },
         {
          "fillcolor": "white",
          "line": {
           "color": "gray"
          },
          "type": "rect",
          "x0": 7,
          "x1": 8,
          "y0": 4,
          "y1": 5
         },
         {
          "fillcolor": "white",
          "line": {
           "color": "gray"
          },
          "type": "rect",
          "x0": 8,
          "x1": 9,
          "y0": 4,
          "y1": 5
         },
         {
          "fillcolor": "black",
          "line": {
           "color": "gray"
          },
          "type": "rect",
          "x0": 9,
          "x1": 10,
          "y0": 4,
          "y1": 5
         },
         {
          "fillcolor": "black",
          "line": {
           "color": "gray"
          },
          "type": "rect",
          "x0": 0,
          "x1": 1,
          "y0": 3,
          "y1": 4
         },
         {
          "fillcolor": "white",
          "line": {
           "color": "gray"
          },
          "type": "rect",
          "x0": 1,
          "x1": 2,
          "y0": 3,
          "y1": 4
         },
         {
          "fillcolor": "white",
          "line": {
           "color": "gray"
          },
          "type": "rect",
          "x0": 2,
          "x1": 3,
          "y0": 3,
          "y1": 4
         },
         {
          "fillcolor": "white",
          "line": {
           "color": "gray"
          },
          "type": "rect",
          "x0": 3,
          "x1": 4,
          "y0": 3,
          "y1": 4
         },
         {
          "fillcolor": "black",
          "line": {
           "color": "gray"
          },
          "type": "rect",
          "x0": 4,
          "x1": 5,
          "y0": 3,
          "y1": 4
         },
         {
          "fillcolor": "white",
          "line": {
           "color": "gray"
          },
          "type": "rect",
          "x0": 5,
          "x1": 6,
          "y0": 3,
          "y1": 4
         },
         {
          "fillcolor": "black",
          "line": {
           "color": "gray"
          },
          "type": "rect",
          "x0": 6,
          "x1": 7,
          "y0": 3,
          "y1": 4
         },
         {
          "fillcolor": "white",
          "line": {
           "color": "gray"
          },
          "type": "rect",
          "x0": 7,
          "x1": 8,
          "y0": 3,
          "y1": 4
         },
         {
          "fillcolor": "white",
          "line": {
           "color": "gray"
          },
          "type": "rect",
          "x0": 8,
          "x1": 9,
          "y0": 3,
          "y1": 4
         },
         {
          "fillcolor": "black",
          "line": {
           "color": "gray"
          },
          "type": "rect",
          "x0": 9,
          "x1": 10,
          "y0": 3,
          "y1": 4
         },
         {
          "fillcolor": "black",
          "line": {
           "color": "gray"
          },
          "type": "rect",
          "x0": 0,
          "x1": 1,
          "y0": 2,
          "y1": 3
         },
         {
          "fillcolor": "black",
          "line": {
           "color": "gray"
          },
          "type": "rect",
          "x0": 1,
          "x1": 2,
          "y0": 2,
          "y1": 3
         },
         {
          "fillcolor": "black",
          "line": {
           "color": "gray"
          },
          "type": "rect",
          "x0": 2,
          "x1": 3,
          "y0": 2,
          "y1": 3
         },
         {
          "fillcolor": "white",
          "line": {
           "color": "gray"
          },
          "type": "rect",
          "x0": 3,
          "x1": 4,
          "y0": 2,
          "y1": 3
         },
         {
          "fillcolor": "white",
          "line": {
           "color": "gray"
          },
          "type": "rect",
          "x0": 4,
          "x1": 5,
          "y0": 2,
          "y1": 3
         },
         {
          "fillcolor": "white",
          "line": {
           "color": "gray"
          },
          "type": "rect",
          "x0": 5,
          "x1": 6,
          "y0": 2,
          "y1": 3
         },
         {
          "fillcolor": "white",
          "line": {
           "color": "gray"
          },
          "type": "rect",
          "x0": 6,
          "x1": 7,
          "y0": 2,
          "y1": 3
         },
         {
          "fillcolor": "white",
          "line": {
           "color": "gray"
          },
          "type": "rect",
          "x0": 7,
          "x1": 8,
          "y0": 2,
          "y1": 3
         },
         {
          "fillcolor": "white",
          "line": {
           "color": "gray"
          },
          "type": "rect",
          "x0": 8,
          "x1": 9,
          "y0": 2,
          "y1": 3
         },
         {
          "fillcolor": "black",
          "line": {
           "color": "gray"
          },
          "type": "rect",
          "x0": 9,
          "x1": 10,
          "y0": 2,
          "y1": 3
         },
         {
          "fillcolor": "black",
          "line": {
           "color": "gray"
          },
          "type": "rect",
          "x0": 0,
          "x1": 1,
          "y0": 1,
          "y1": 2
         },
         {
          "fillcolor": "white",
          "line": {
           "color": "gray"
          },
          "type": "rect",
          "x0": 1,
          "x1": 2,
          "y0": 1,
          "y1": 2
         },
         {
          "fillcolor": "black",
          "line": {
           "color": "gray"
          },
          "type": "rect",
          "x0": 2,
          "x1": 3,
          "y0": 1,
          "y1": 2
         },
         {
          "fillcolor": "white",
          "line": {
           "color": "gray"
          },
          "type": "rect",
          "x0": 3,
          "x1": 4,
          "y0": 1,
          "y1": 2
         },
         {
          "fillcolor": "black",
          "line": {
           "color": "gray"
          },
          "type": "rect",
          "x0": 4,
          "x1": 5,
          "y0": 1,
          "y1": 2
         },
         {
          "fillcolor": "black",
          "line": {
           "color": "gray"
          },
          "type": "rect",
          "x0": 5,
          "x1": 6,
          "y0": 1,
          "y1": 2
         },
         {
          "fillcolor": "white",
          "line": {
           "color": "gray"
          },
          "type": "rect",
          "x0": 6,
          "x1": 7,
          "y0": 1,
          "y1": 2
         },
         {
          "fillcolor": "white",
          "line": {
           "color": "gray"
          },
          "type": "rect",
          "x0": 7,
          "x1": 8,
          "y0": 1,
          "y1": 2
         },
         {
          "fillcolor": "red",
          "line": {
           "color": "gray"
          },
          "type": "rect",
          "x0": 8,
          "x1": 9,
          "y0": 1,
          "y1": 2
         },
         {
          "fillcolor": "black",
          "line": {
           "color": "gray"
          },
          "type": "rect",
          "x0": 9,
          "x1": 10,
          "y0": 1,
          "y1": 2
         },
         {
          "fillcolor": "black",
          "line": {
           "color": "gray"
          },
          "type": "rect",
          "x0": 0,
          "x1": 1,
          "y0": 0,
          "y1": 1
         },
         {
          "fillcolor": "black",
          "line": {
           "color": "gray"
          },
          "type": "rect",
          "x0": 1,
          "x1": 2,
          "y0": 0,
          "y1": 1
         },
         {
          "fillcolor": "black",
          "line": {
           "color": "gray"
          },
          "type": "rect",
          "x0": 2,
          "x1": 3,
          "y0": 0,
          "y1": 1
         },
         {
          "fillcolor": "black",
          "line": {
           "color": "gray"
          },
          "type": "rect",
          "x0": 3,
          "x1": 4,
          "y0": 0,
          "y1": 1
         },
         {
          "fillcolor": "black",
          "line": {
           "color": "gray"
          },
          "type": "rect",
          "x0": 4,
          "x1": 5,
          "y0": 0,
          "y1": 1
         },
         {
          "fillcolor": "black",
          "line": {
           "color": "gray"
          },
          "type": "rect",
          "x0": 5,
          "x1": 6,
          "y0": 0,
          "y1": 1
         },
         {
          "fillcolor": "black",
          "line": {
           "color": "gray"
          },
          "type": "rect",
          "x0": 6,
          "x1": 7,
          "y0": 0,
          "y1": 1
         },
         {
          "fillcolor": "black",
          "line": {
           "color": "gray"
          },
          "type": "rect",
          "x0": 7,
          "x1": 8,
          "y0": 0,
          "y1": 1
         },
         {
          "fillcolor": "black",
          "line": {
           "color": "gray"
          },
          "type": "rect",
          "x0": 8,
          "x1": 9,
          "y0": 0,
          "y1": 1
         },
         {
          "fillcolor": "black",
          "line": {
           "color": "gray"
          },
          "type": "rect",
          "x0": 9,
          "x1": 10,
          "y0": 0,
          "y1": 1
         }
        ],
        "template": {
         "data": {
          "bar": [
           {
            "error_x": {
             "color": "#2a3f5f"
            },
            "error_y": {
             "color": "#2a3f5f"
            },
            "marker": {
             "line": {
              "color": "#E5ECF6",
              "width": 0.5
             },
             "pattern": {
              "fillmode": "overlay",
              "size": 10,
              "solidity": 0.2
             }
            },
            "type": "bar"
           }
          ],
          "barpolar": [
           {
            "marker": {
             "line": {
              "color": "#E5ECF6",
              "width": 0.5
             },
             "pattern": {
              "fillmode": "overlay",
              "size": 10,
              "solidity": 0.2
             }
            },
            "type": "barpolar"
           }
          ],
          "carpet": [
           {
            "aaxis": {
             "endlinecolor": "#2a3f5f",
             "gridcolor": "white",
             "linecolor": "white",
             "minorgridcolor": "white",
             "startlinecolor": "#2a3f5f"
            },
            "baxis": {
             "endlinecolor": "#2a3f5f",
             "gridcolor": "white",
             "linecolor": "white",
             "minorgridcolor": "white",
             "startlinecolor": "#2a3f5f"
            },
            "type": "carpet"
           }
          ],
          "choropleth": [
           {
            "colorbar": {
             "outlinewidth": 0,
             "ticks": ""
            },
            "type": "choropleth"
           }
          ],
          "contour": [
           {
            "colorbar": {
             "outlinewidth": 0,
             "ticks": ""
            },
            "colorscale": [
             [
              0,
              "#0d0887"
             ],
             [
              0.1111111111111111,
              "#46039f"
             ],
             [
              0.2222222222222222,
              "#7201a8"
             ],
             [
              0.3333333333333333,
              "#9c179e"
             ],
             [
              0.4444444444444444,
              "#bd3786"
             ],
             [
              0.5555555555555556,
              "#d8576b"
             ],
             [
              0.6666666666666666,
              "#ed7953"
             ],
             [
              0.7777777777777778,
              "#fb9f3a"
             ],
             [
              0.8888888888888888,
              "#fdca26"
             ],
             [
              1,
              "#f0f921"
             ]
            ],
            "type": "contour"
           }
          ],
          "contourcarpet": [
           {
            "colorbar": {
             "outlinewidth": 0,
             "ticks": ""
            },
            "type": "contourcarpet"
           }
          ],
          "heatmap": [
           {
            "colorbar": {
             "outlinewidth": 0,
             "ticks": ""
            },
            "colorscale": [
             [
              0,
              "#0d0887"
             ],
             [
              0.1111111111111111,
              "#46039f"
             ],
             [
              0.2222222222222222,
              "#7201a8"
             ],
             [
              0.3333333333333333,
              "#9c179e"
             ],
             [
              0.4444444444444444,
              "#bd3786"
             ],
             [
              0.5555555555555556,
              "#d8576b"
             ],
             [
              0.6666666666666666,
              "#ed7953"
             ],
             [
              0.7777777777777778,
              "#fb9f3a"
             ],
             [
              0.8888888888888888,
              "#fdca26"
             ],
             [
              1,
              "#f0f921"
             ]
            ],
            "type": "heatmap"
           }
          ],
          "heatmapgl": [
           {
            "colorbar": {
             "outlinewidth": 0,
             "ticks": ""
            },
            "colorscale": [
             [
              0,
              "#0d0887"
             ],
             [
              0.1111111111111111,
              "#46039f"
             ],
             [
              0.2222222222222222,
              "#7201a8"
             ],
             [
              0.3333333333333333,
              "#9c179e"
             ],
             [
              0.4444444444444444,
              "#bd3786"
             ],
             [
              0.5555555555555556,
              "#d8576b"
             ],
             [
              0.6666666666666666,
              "#ed7953"
             ],
             [
              0.7777777777777778,
              "#fb9f3a"
             ],
             [
              0.8888888888888888,
              "#fdca26"
             ],
             [
              1,
              "#f0f921"
             ]
            ],
            "type": "heatmapgl"
           }
          ],
          "histogram": [
           {
            "marker": {
             "pattern": {
              "fillmode": "overlay",
              "size": 10,
              "solidity": 0.2
             }
            },
            "type": "histogram"
           }
          ],
          "histogram2d": [
           {
            "colorbar": {
             "outlinewidth": 0,
             "ticks": ""
            },
            "colorscale": [
             [
              0,
              "#0d0887"
             ],
             [
              0.1111111111111111,
              "#46039f"
             ],
             [
              0.2222222222222222,
              "#7201a8"
             ],
             [
              0.3333333333333333,
              "#9c179e"
             ],
             [
              0.4444444444444444,
              "#bd3786"
             ],
             [
              0.5555555555555556,
              "#d8576b"
             ],
             [
              0.6666666666666666,
              "#ed7953"
             ],
             [
              0.7777777777777778,
              "#fb9f3a"
             ],
             [
              0.8888888888888888,
              "#fdca26"
             ],
             [
              1,
              "#f0f921"
             ]
            ],
            "type": "histogram2d"
           }
          ],
          "histogram2dcontour": [
           {
            "colorbar": {
             "outlinewidth": 0,
             "ticks": ""
            },
            "colorscale": [
             [
              0,
              "#0d0887"
             ],
             [
              0.1111111111111111,
              "#46039f"
             ],
             [
              0.2222222222222222,
              "#7201a8"
             ],
             [
              0.3333333333333333,
              "#9c179e"
             ],
             [
              0.4444444444444444,
              "#bd3786"
             ],
             [
              0.5555555555555556,
              "#d8576b"
             ],
             [
              0.6666666666666666,
              "#ed7953"
             ],
             [
              0.7777777777777778,
              "#fb9f3a"
             ],
             [
              0.8888888888888888,
              "#fdca26"
             ],
             [
              1,
              "#f0f921"
             ]
            ],
            "type": "histogram2dcontour"
           }
          ],
          "mesh3d": [
           {
            "colorbar": {
             "outlinewidth": 0,
             "ticks": ""
            },
            "type": "mesh3d"
           }
          ],
          "parcoords": [
           {
            "line": {
             "colorbar": {
              "outlinewidth": 0,
              "ticks": ""
             }
            },
            "type": "parcoords"
           }
          ],
          "pie": [
           {
            "automargin": true,
            "type": "pie"
           }
          ],
          "scatter": [
           {
            "fillpattern": {
             "fillmode": "overlay",
             "size": 10,
             "solidity": 0.2
            },
            "type": "scatter"
           }
          ],
          "scatter3d": [
           {
            "line": {
             "colorbar": {
              "outlinewidth": 0,
              "ticks": ""
             }
            },
            "marker": {
             "colorbar": {
              "outlinewidth": 0,
              "ticks": ""
             }
            },
            "type": "scatter3d"
           }
          ],
          "scattercarpet": [
           {
            "marker": {
             "colorbar": {
              "outlinewidth": 0,
              "ticks": ""
             }
            },
            "type": "scattercarpet"
           }
          ],
          "scattergeo": [
           {
            "marker": {
             "colorbar": {
              "outlinewidth": 0,
              "ticks": ""
             }
            },
            "type": "scattergeo"
           }
          ],
          "scattergl": [
           {
            "marker": {
             "colorbar": {
              "outlinewidth": 0,
              "ticks": ""
             }
            },
            "type": "scattergl"
           }
          ],
          "scattermapbox": [
           {
            "marker": {
             "colorbar": {
              "outlinewidth": 0,
              "ticks": ""
             }
            },
            "type": "scattermapbox"
           }
          ],
          "scatterpolar": [
           {
            "marker": {
             "colorbar": {
              "outlinewidth": 0,
              "ticks": ""
             }
            },
            "type": "scatterpolar"
           }
          ],
          "scatterpolargl": [
           {
            "marker": {
             "colorbar": {
              "outlinewidth": 0,
              "ticks": ""
             }
            },
            "type": "scatterpolargl"
           }
          ],
          "scatterternary": [
           {
            "marker": {
             "colorbar": {
              "outlinewidth": 0,
              "ticks": ""
             }
            },
            "type": "scatterternary"
           }
          ],
          "surface": [
           {
            "colorbar": {
             "outlinewidth": 0,
             "ticks": ""
            },
            "colorscale": [
             [
              0,
              "#0d0887"
             ],
             [
              0.1111111111111111,
              "#46039f"
             ],
             [
              0.2222222222222222,
              "#7201a8"
             ],
             [
              0.3333333333333333,
              "#9c179e"
             ],
             [
              0.4444444444444444,
              "#bd3786"
             ],
             [
              0.5555555555555556,
              "#d8576b"
             ],
             [
              0.6666666666666666,
              "#ed7953"
             ],
             [
              0.7777777777777778,
              "#fb9f3a"
             ],
             [
              0.8888888888888888,
              "#fdca26"
             ],
             [
              1,
              "#f0f921"
             ]
            ],
            "type": "surface"
           }
          ],
          "table": [
           {
            "cells": {
             "fill": {
              "color": "#EBF0F8"
             },
             "line": {
              "color": "white"
             }
            },
            "header": {
             "fill": {
              "color": "#C8D4E3"
             },
             "line": {
              "color": "white"
             }
            },
            "type": "table"
           }
          ]
         },
         "layout": {
          "annotationdefaults": {
           "arrowcolor": "#2a3f5f",
           "arrowhead": 0,
           "arrowwidth": 1
          },
          "autotypenumbers": "strict",
          "coloraxis": {
           "colorbar": {
            "outlinewidth": 0,
            "ticks": ""
           }
          },
          "colorscale": {
           "diverging": [
            [
             0,
             "#8e0152"
            ],
            [
             0.1,
             "#c51b7d"
            ],
            [
             0.2,
             "#de77ae"
            ],
            [
             0.3,
             "#f1b6da"
            ],
            [
             0.4,
             "#fde0ef"
            ],
            [
             0.5,
             "#f7f7f7"
            ],
            [
             0.6,
             "#e6f5d0"
            ],
            [
             0.7,
             "#b8e186"
            ],
            [
             0.8,
             "#7fbc41"
            ],
            [
             0.9,
             "#4d9221"
            ],
            [
             1,
             "#276419"
            ]
           ],
           "sequential": [
            [
             0,
             "#0d0887"
            ],
            [
             0.1111111111111111,
             "#46039f"
            ],
            [
             0.2222222222222222,
             "#7201a8"
            ],
            [
             0.3333333333333333,
             "#9c179e"
            ],
            [
             0.4444444444444444,
             "#bd3786"
            ],
            [
             0.5555555555555556,
             "#d8576b"
            ],
            [
             0.6666666666666666,
             "#ed7953"
            ],
            [
             0.7777777777777778,
             "#fb9f3a"
            ],
            [
             0.8888888888888888,
             "#fdca26"
            ],
            [
             1,
             "#f0f921"
            ]
           ],
           "sequentialminus": [
            [
             0,
             "#0d0887"
            ],
            [
             0.1111111111111111,
             "#46039f"
            ],
            [
             0.2222222222222222,
             "#7201a8"
            ],
            [
             0.3333333333333333,
             "#9c179e"
            ],
            [
             0.4444444444444444,
             "#bd3786"
            ],
            [
             0.5555555555555556,
             "#d8576b"
            ],
            [
             0.6666666666666666,
             "#ed7953"
            ],
            [
             0.7777777777777778,
             "#fb9f3a"
            ],
            [
             0.8888888888888888,
             "#fdca26"
            ],
            [
             1,
             "#f0f921"
            ]
           ]
          },
          "colorway": [
           "#636efa",
           "#EF553B",
           "#00cc96",
           "#ab63fa",
           "#FFA15A",
           "#19d3f3",
           "#FF6692",
           "#B6E880",
           "#FF97FF",
           "#FECB52"
          ],
          "font": {
           "color": "#2a3f5f"
          },
          "geo": {
           "bgcolor": "white",
           "lakecolor": "white",
           "landcolor": "#E5ECF6",
           "showlakes": true,
           "showland": true,
           "subunitcolor": "white"
          },
          "hoverlabel": {
           "align": "left"
          },
          "hovermode": "closest",
          "mapbox": {
           "style": "light"
          },
          "paper_bgcolor": "white",
          "plot_bgcolor": "#E5ECF6",
          "polar": {
           "angularaxis": {
            "gridcolor": "white",
            "linecolor": "white",
            "ticks": ""
           },
           "bgcolor": "#E5ECF6",
           "radialaxis": {
            "gridcolor": "white",
            "linecolor": "white",
            "ticks": ""
           }
          },
          "scene": {
           "xaxis": {
            "backgroundcolor": "#E5ECF6",
            "gridcolor": "white",
            "gridwidth": 2,
            "linecolor": "white",
            "showbackground": true,
            "ticks": "",
            "zerolinecolor": "white"
           },
           "yaxis": {
            "backgroundcolor": "#E5ECF6",
            "gridcolor": "white",
            "gridwidth": 2,
            "linecolor": "white",
            "showbackground": true,
            "ticks": "",
            "zerolinecolor": "white"
           },
           "zaxis": {
            "backgroundcolor": "#E5ECF6",
            "gridcolor": "white",
            "gridwidth": 2,
            "linecolor": "white",
            "showbackground": true,
            "ticks": "",
            "zerolinecolor": "white"
           }
          },
          "shapedefaults": {
           "line": {
            "color": "#2a3f5f"
           }
          },
          "ternary": {
           "aaxis": {
            "gridcolor": "white",
            "linecolor": "white",
            "ticks": ""
           },
           "baxis": {
            "gridcolor": "white",
            "linecolor": "white",
            "ticks": ""
           },
           "bgcolor": "#E5ECF6",
           "caxis": {
            "gridcolor": "white",
            "linecolor": "white",
            "ticks": ""
           }
          },
          "title": {
           "x": 0.05
          },
          "xaxis": {
           "automargin": true,
           "gridcolor": "white",
           "linecolor": "white",
           "ticks": "",
           "title": {
            "standoff": 15
           },
           "zerolinecolor": "white",
           "zerolinewidth": 2
          },
          "yaxis": {
           "automargin": true,
           "gridcolor": "white",
           "linecolor": "white",
           "ticks": "",
           "title": {
            "standoff": 15
           },
           "zerolinecolor": "white",
           "zerolinewidth": 2
          }
         }
        },
        "title": {
         "text": "Maze"
        },
        "width": 500,
        "xaxis": {
         "range": [
          0,
          10
         ],
         "showticklabels": false
        },
        "yaxis": {
         "range": [
          0,
          10
         ],
         "showticklabels": false
        }
       }
      }
     },
     "metadata": {},
     "output_type": "display_data"
    }
   ],
   "source": [
    "train_button = widgets.Button(description=\"Train Q-Learning Agent\", button_style='success')"
   ]
  },
  {
   "cell_type": "code",
   "execution_count": 14,
   "metadata": {},
   "outputs": [],
   "source": [
    "def on_train_button_clicked(b):\n",
    "    clear_output(wait=True)\n",
    "    \n",
    "    display(ui)\n",
    "    \n",
    "    n_rows = maze_rows_widget.value\n",
    "    n_cols = maze_cols_widget.value\n",
    "    start = (start_row_widget.value, start_col_widget.value)\n",
    "    goal = (goal_row_widget.value, goal_col_widget.value)\n",
    "    obstacle_prob = obstacle_prob_widget.value\n",
    "    \n",
    "    episodes = episodes_widget.value\n",
    "    learning_rate = learning_rate_widget.value\n",
    "    discount = discount_widget.value\n",
    "    epsilon = epsilon_widget.value\n",
    "    epsilon_decay = epsilon_decay_widget.value\n",
    "    max_steps = max_steps_widget.value\n",
    "    \n",
    "    env = MazeEnv(n_rows, n_cols, start, goal, obstacle_prob)\n",
    "    \n",
    "    print(\"### Initial Maze ###\")\n",
    "    env.render()\n",
    "    \n",
    "    agent = QLearningAgent(env, learning_rate, discount, epsilon, epsilon_decay)\n",
    "    \n",
    "    print(\"### Training Agent... ###\")\n",
    "    rewards = agent.train(episodes, max_steps, verbose=True)\n",
    "    \n",
    "    path = agent.get_optimal_path(max_steps)\n",
    "    print(\"### Learned Path ###\")\n",
    "    print(path)\n",
    "    \n",
    "    env.render(path)"
   ]
  },
  {
   "cell_type": "code",
   "execution_count": 15,
   "metadata": {},
   "outputs": [
    {
     "data": {
      "application/vnd.jupyter.widget-view+json": {
       "model_id": "cb3302db837048abb317fe2982f9c96c",
       "version_major": 2,
       "version_minor": 0
      },
      "text/plain": [
       "HBox(children=(VBox(children=(Label(value='Maze Parameters:'), IntSlider(value=10, description='Rows', max=30,…"
      ]
     },
     "metadata": {},
     "output_type": "display_data"
    }
   ],
   "source": [
    "train_button.on_click(on_train_button_clicked)\n",
    "\n",
    "maze_params = widgets.VBox([\n",
    "    widgets.Label(\"Maze Parameters:\"),\n",
    "    maze_rows_widget, \n",
    "    maze_cols_widget, \n",
    "    start_row_widget, \n",
    "    start_col_widget,\n",
    "    goal_row_widget, \n",
    "    goal_col_widget,\n",
    "    obstacle_prob_widget\n",
    "])\n",
    "learning_params = widgets.VBox([\n",
    "    widgets.Label(\"Q-Learning Parameters:\"),\n",
    "    episodes_widget, \n",
    "    learning_rate_widget, \n",
    "    discount_widget, \n",
    "    epsilon_widget, \n",
    "    epsilon_decay_widget, \n",
    "    max_steps_widget\n",
    "])\n",
    "ui = widgets.HBox([maze_params, learning_params, train_button])\n",
    "\n",
    "display(ui)"
   ]
  }
 ],
 "metadata": {
  "kernelspec": {
   "display_name": "ai",
   "language": "python",
   "name": "python3"
  },
  "language_info": {
   "codemirror_mode": {
    "name": "ipython",
    "version": 3
   },
   "file_extension": ".py",
   "mimetype": "text/x-python",
   "name": "python",
   "nbconvert_exporter": "python",
   "pygments_lexer": "ipython3",
   "version": "3.10.15"
  }
 },
 "nbformat": 4,
 "nbformat_minor": 2
}
